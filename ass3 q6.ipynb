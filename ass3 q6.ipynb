{
 "cells": [
  {
   "cell_type": "code",
   "execution_count": 1,
   "metadata": {},
   "outputs": [
    {
     "name": "stdout",
     "output_type": "stream",
     "text": [
      "Enter key 1\n",
      "Already exist \n"
     ]
    }
   ],
   "source": [
    "abc={\n",
    "    1 : \"A\",\n",
    "    2 : \"B\",\n",
    "    3 : \"C\",\n",
    "    4 : \"D\",\n",
    "    5 : \"E\",\n",
    "    6 : \"F\"\n",
    "}\n",
    "\n",
    "key=int(input(\"Enter key \"))\n",
    "\n",
    "if key in abc.keys() :\n",
    "    print(\"Already exist \")\n",
    "else:\n",
    "    print(\"do not exist\")"
   ]
  },
  {
   "cell_type": "code",
   "execution_count": null,
   "metadata": {},
   "outputs": [],
   "source": []
  }
 ],
 "metadata": {
  "kernelspec": {
   "display_name": "Python 3",
   "language": "python",
   "name": "python3"
  },
  "language_info": {
   "codemirror_mode": {
    "name": "ipython",
    "version": 3
   },
   "file_extension": ".py",
   "mimetype": "text/x-python",
   "name": "python",
   "nbconvert_exporter": "python",
   "pygments_lexer": "ipython3",
   "version": "3.7.4"
  }
 },
 "nbformat": 4,
 "nbformat_minor": 2
}
