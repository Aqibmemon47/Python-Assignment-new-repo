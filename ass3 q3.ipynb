{
 "cells": [
  {
   "cell_type": "code",
   "execution_count": 1,
   "metadata": {},
   "outputs": [
    {
     "name": "stdout",
     "output_type": "stream",
     "text": [
      "{'name': 'Muhammad', 'caste': 'Aqib'}\n",
      "{'name': 'Muhammad', 'caste': 'Aqib', 'address': 'Hyderabad'}\n"
     ]
    }
   ],
   "source": [
    "info={\n",
    "    \"name\" : \"Muhammad\",\n",
    "    \"caste\" : \"Aqib\"\n",
    "}\n",
    "\n",
    "print(info)\n",
    "\n",
    "info[\"address\"]=\"Hyderabad\"\n",
    "\n",
    "print(info)"
   ]
  },
  {
   "cell_type": "code",
   "execution_count": null,
   "metadata": {},
   "outputs": [],
   "source": []
  }
 ],
 "metadata": {
  "kernelspec": {
   "display_name": "Python 3",
   "language": "python",
   "name": "python3"
  },
  "language_info": {
   "codemirror_mode": {
    "name": "ipython",
    "version": 3
   },
   "file_extension": ".py",
   "mimetype": "text/x-python",
   "name": "python",
   "nbconvert_exporter": "python",
   "pygments_lexer": "ipython3",
   "version": "3.7.4"
  }
 },
 "nbformat": 4,
 "nbformat_minor": 2
}
