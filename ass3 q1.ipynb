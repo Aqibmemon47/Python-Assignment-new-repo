{
 "cells": [
  {
   "cell_type": "code",
   "execution_count": 2,
   "metadata": {},
   "outputs": [
    {
     "name": "stdout",
     "output_type": "stream",
     "text": [
      "Select operation.\n",
      "1.Power\n",
      "2.Add\n",
      "3.Subtract\n",
      "4.Multiply\n",
      "5.Divide\n",
      "Enter choice(1/2/3/4/5): 1\n",
      "Enter first number: 2\n",
      "Enter second number: 3\n",
      "2.0 ^ 3.0 = 8.0\n"
     ]
    }
   ],
   "source": [
    "def power(x, y):\n",
    "    return x**y\n",
    "\n",
    "def add(x, y):\n",
    "   return x + y\n",
    "\n",
    "\n",
    "def subtract(x, y):\n",
    "   return x - y\n",
    "\n",
    "\n",
    "def multiply(x, y):\n",
    "   return x * y\n",
    "\n",
    "\n",
    "def divide(x, y):\n",
    "   return x / y\n",
    "\n",
    "print(\"Select operation.\")\n",
    "print(\"1.Power\")\n",
    "print(\"2.Add\")\n",
    "print(\"3.Subtract\")\n",
    "print(\"4.Multiply\")\n",
    "print(\"5.Divide\")\n",
    " \n",
    "choice = input(\"Enter choice(1/2/3/4/5): \")\n",
    "\n",
    "num1 = float(input(\"Enter first number: \"))\n",
    "num2 = float(input(\"Enter second number: \"))\n",
    "\n",
    "if choice == '1':\n",
    "   print(num1,\"^\",num2,\"=\", power(num1,num2))\n",
    "\n",
    "elif choice == '2':\n",
    "    print(num1,\"+\",num2, \"=\", add(num1,num2))\n",
    "    \n",
    "elif choice == '3':\n",
    "   print(num1,\"-\",num2,\"=\", subtract(num1,num2))\n",
    "\n",
    "elif choice == '4':\n",
    "   print(num1,\"*\",num2,\"=\", multiply(num1,num2))\n",
    "\n",
    "elif choice == '5':\n",
    "   print(num1,\"/\",num2,\"=\", divide(num1,num2))\n",
    "else:\n",
    "   print(\"Invalid input\")"
   ]
  },
  {
   "cell_type": "code",
   "execution_count": null,
   "metadata": {},
   "outputs": [],
   "source": []
  }
 ],
 "metadata": {
  "kernelspec": {
   "display_name": "Python 3",
   "language": "python",
   "name": "python3"
  },
  "language_info": {
   "codemirror_mode": {
    "name": "ipython",
    "version": 3
   },
   "file_extension": ".py",
   "mimetype": "text/x-python",
   "name": "python",
   "nbconvert_exporter": "python",
   "pygments_lexer": "ipython3",
   "version": "3.7.4"
  }
 },
 "nbformat": 4,
 "nbformat_minor": 2
}
