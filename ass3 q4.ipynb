{
 "cells": [
  {
   "cell_type": "code",
   "execution_count": 1,
   "metadata": {},
   "outputs": [
    {
     "name": "stdout",
     "output_type": "stream",
     "text": [
      "the sum od the numeric values in dictionary is  31\n"
     ]
    }
   ],
   "source": [
    "values={\n",
    "    1:\"Aqib\",\n",
    "    \"a\" : 20,\n",
    "    3 : 7\n",
    "}\n",
    "\n",
    "sum=0\n",
    "\n",
    "for key,value in values.items() :\n",
    "    if type(value) is int or type(value) is float :\n",
    "        sum+=value\n",
    "    if type(key) is int or type(key) is float :\n",
    "        sum+=key\n",
    "        \n",
    "\n",
    "print(\"the sum od the numeric values in dictionary is \",sum)"
   ]
  },
  {
   "cell_type": "code",
   "execution_count": null,
   "metadata": {},
   "outputs": [],
   "source": []
  }
 ],
 "metadata": {
  "kernelspec": {
   "display_name": "Python 3",
   "language": "python",
   "name": "python3"
  },
  "language_info": {
   "codemirror_mode": {
    "name": "ipython",
    "version": 3
   },
   "file_extension": ".py",
   "mimetype": "text/x-python",
   "name": "python",
   "nbconvert_exporter": "python",
   "pygments_lexer": "ipython3",
   "version": "3.7.4"
  }
 },
 "nbformat": 4,
 "nbformat_minor": 2
}
