{
 "cells": [
  {
   "cell_type": "code",
   "execution_count": 1,
   "metadata": {},
   "outputs": [
    {
     "name": "stdout",
     "output_type": "stream",
     "text": [
      "repeated values: Saqib "
     ]
    }
   ],
   "source": [
    "list1=[\"Same\",\"Saqib\",\"Soomro\",\"ALi\",\"Saqib\",\"Aqib\"]\n",
    "list2=[]\n",
    "print(\"repeated values:\" , end=\" \")\n",
    "for value in list1 :\n",
    "    if value in list2 :\n",
    "        print(value ,end=\" \" )\n",
    "    else :\n",
    "        list2.append(value)"
   ]
  },
  {
   "cell_type": "code",
   "execution_count": null,
   "metadata": {},
   "outputs": [],
   "source": []
  }
 ],
 "metadata": {
  "kernelspec": {
   "display_name": "Python 3",
   "language": "python",
   "name": "python3"
  },
  "language_info": {
   "codemirror_mode": {
    "name": "ipython",
    "version": 3
   },
   "file_extension": ".py",
   "mimetype": "text/x-python",
   "name": "python",
   "nbconvert_exporter": "python",
   "pygments_lexer": "ipython3",
   "version": "3.7.4"
  }
 },
 "nbformat": 4,
 "nbformat_minor": 2
}
