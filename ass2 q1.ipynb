{
 "cells": [
  {
   "cell_type": "code",
   "execution_count": 3,
   "metadata": {},
   "outputs": [
    {
     "name": "stdout",
     "output_type": "stream",
     "text": [
      "Enter marks of maths: 80\n",
      "Enter marks of urdu: 80\n",
      "Enter marks of sindhi: 80\n",
      "Enter marks of english: 80\n",
      "Enter marks of science: 80\n",
      "Grade: B\n"
     ]
    }
   ],
   "source": [
    "maths=int(input(\"Enter marks of maths: \"))\n",
    "urdu=int(input(\"Enter marks of urdu: \"))\n",
    "sindhi=int(input(\"Enter marks of sindhi: \"))\n",
    "english=int(input(\"Enter marks of english: \"))\n",
    "science=int(input(\"Enter marks of science: \"))\n",
    "avg=(maths+urdu+sindhi+english+science)/5\n",
    "if(avg>=90 ):\n",
    "    print(\"Grade: A\")\n",
    "elif(avg>=80 and avg<90):\n",
    "    print(\"Grade: B\")\n",
    "elif(avg>=70 and avg<80):\n",
    "    print(\"Grade: C\")\n",
    "elif(avg>=60 and avg<70):\n",
    "    print(\"Grade: D\")\n",
    "else:\n",
    "    print(\"Grade: F\")"
   ]
  },
  {
   "cell_type": "code",
   "execution_count": null,
   "metadata": {},
   "outputs": [],
   "source": []
  },
  {
   "cell_type": "code",
   "execution_count": null,
   "metadata": {},
   "outputs": [],
   "source": []
  },
  {
   "cell_type": "code",
   "execution_count": null,
   "metadata": {},
   "outputs": [],
   "source": []
  }
 ],
 "metadata": {
  "kernelspec": {
   "display_name": "Python 3",
   "language": "python",
   "name": "python3"
  },
  "language_info": {
   "codemirror_mode": {
    "name": "ipython",
    "version": 3
   },
   "file_extension": ".py",
   "mimetype": "text/x-python",
   "name": "python",
   "nbconvert_exporter": "python",
   "pygments_lexer": "ipython3",
   "version": "3.7.4"
  }
 },
 "nbformat": 4,
 "nbformat_minor": 2
}
