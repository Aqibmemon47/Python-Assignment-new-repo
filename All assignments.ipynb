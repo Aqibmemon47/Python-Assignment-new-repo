{
 "cells": [
  {
   "cell_type": "code",
   "execution_count": 1,
   "metadata": {},
   "outputs": [
    {
     "name": "stdout",
     "output_type": "stream",
     "text": [
      "Twinkle, twinkle, little star,\n",
      "\tHow I wonder what you are! \n",
      "\t\tUp above the world so high, \n",
      "\t\tLike a diamond in the sky. \n",
      "Twinkle, twinkle, little star, \n",
      "\tHow I wonder what you are!\n"
     ]
    }
   ],
   "source": [
    "print(\"Twinkle, twinkle, little star,\\n\\tHow I wonder what you are! \\n\\t\\tUp above the world so high, \\n\\t\\tLike a diamond in the sky. \\nTwinkle, twinkle, little star, \\n\\tHow I wonder what you are!\")"
   ]
  },
  {
   "cell_type": "code",
   "execution_count": 2,
   "metadata": {},
   "outputs": [
    {
     "name": "stdout",
     "output_type": "stream",
     "text": [
      "Python version\n",
      "3.7.4 (default, Aug  9 2019, 18:34:13) [MSC v.1915 64 bit (AMD64)]\n"
     ]
    }
   ],
   "source": [
    "import sys\n",
    "print(\"Python version\")\n",
    "print (sys.version)"
   ]
  },
  {
   "cell_type": "code",
   "execution_count": 3,
   "metadata": {},
   "outputs": [
    {
     "name": "stdout",
     "output_type": "stream",
     "text": [
      "Current date and time : \n",
      "2020-01-03 11:49:48\n"
     ]
    }
   ],
   "source": [
    "import datetime\n",
    "now = datetime.datetime.now()\n",
    "print (\"Current date and time : \")\n",
    "print (now.strftime(\"%Y-%m-%d %H:%M:%S\"))"
   ]
  },
  {
   "cell_type": "code",
   "execution_count": 4,
   "metadata": {},
   "outputs": [
    {
     "name": "stdout",
     "output_type": "stream",
     "text": [
      "Write the radius of the circle : 8\n",
      "The area of the circle with radius 8.0 is: 201.06192982974676\n"
     ]
    }
   ],
   "source": [
    "from math import pi\n",
    "radius = float(input (\"Write the radius of the circle : \"))\n",
    "print (\"The area of the circle with radius \" + str(radius) + \" is: \" + str(pi * radius**2))"
   ]
  },
  {
   "cell_type": "code",
   "execution_count": 5,
   "metadata": {},
   "outputs": [
    {
     "name": "stdout",
     "output_type": "stream",
     "text": [
      "Write your First Name : Muhammad\n",
      "Write your Last Name : Aqib\n",
      "Aqib Muhammad\n"
     ]
    }
   ],
   "source": [
    "firstname = input(\"Write your First Name : \")\n",
    "lastname = input(\"Write your Last Name : \")\n",
    "print ( lastname + \" \" + firstname)"
   ]
  },
  {
   "cell_type": "code",
   "execution_count": 6,
   "metadata": {},
   "outputs": [
    {
     "name": "stdout",
     "output_type": "stream",
     "text": [
      "Enter first number: 7\n",
      "Enter second number: 8\n",
      "The sum of 7 and 8 is 15.0\n"
     ]
    }
   ],
   "source": [
    "num1 = input('Enter first number: ')\n",
    "num2 = input('Enter second number: ')\n",
    "sum = float(num1) + float(num2)\n",
    "print('The sum of {0} and {1} is {2}'.format(num1, num2, sum))"
   ]
  },
  {
   "cell_type": "code",
   "execution_count": 7,
   "metadata": {},
   "outputs": [
    {
     "name": "stdout",
     "output_type": "stream",
     "text": [
      "Enter marks of maths: 67\n",
      "Enter marks of urdu: 76\n",
      "Enter marks of sindhi: 77\n",
      "Enter marks of english: 55\n",
      "Enter marks of science: 66\n",
      "Grade: D\n"
     ]
    }
   ],
   "source": [
    "#Assignment 2\n",
    "maths=int(input(\"Enter marks of maths: \"))\n",
    "urdu=int(input(\"Enter marks of urdu: \"))\n",
    "sindhi=int(input(\"Enter marks of sindhi: \"))\n",
    "english=int(input(\"Enter marks of english: \"))\n",
    "science=int(input(\"Enter marks of science: \"))\n",
    "avg=(maths+urdu+sindhi+english+science)/5\n",
    "if(avg>=90 ):\n",
    "    print(\"Grade: A\")\n",
    "elif(avg>=80 and avg<90):\n",
    "    print(\"Grade: B\")\n",
    "elif(avg>=70 and avg<80):\n",
    "    print(\"Grade: C\")\n",
    "elif(avg>=60 and avg<70):\n",
    "    print(\"Grade: D\")\n",
    "else:\n",
    "    print(\"Grade: F\")"
   ]
  },
  {
   "cell_type": "code",
   "execution_count": 8,
   "metadata": {},
   "outputs": [
    {
     "name": "stdout",
     "output_type": "stream",
     "text": [
      "Enter a number: 67\n",
      "67 is Odd Number\n"
     ]
    }
   ],
   "source": [
    "number = int(input(\"Enter a number: \"))\n",
    "if (number % 2) == 0:\n",
    "   print(\"{0} is Even Number\".format(number))\n",
    "else:\n",
    "   print(\"{0} is Odd Number\".format(number))"
   ]
  },
  {
   "cell_type": "code",
   "execution_count": 9,
   "metadata": {},
   "outputs": [
    {
     "name": "stdout",
     "output_type": "stream",
     "text": [
      "Length of given list is:  9\n"
     ]
    }
   ],
   "source": [
    "length=[1,3,4,8,9,10,12,14,16]\n",
    "print(\"Length of given list is: \",len(length))"
   ]
  },
  {
   "cell_type": "code",
   "execution_count": 10,
   "metadata": {},
   "outputs": [
    {
     "name": "stdout",
     "output_type": "stream",
     "text": [
      "Sum of all elements in given list is:  150\n"
     ]
    }
   ],
   "source": [
    "sum = 0\n",
    "lis = [10,20,30,40,50]  \n",
    "   \n",
    "for ele in range(0, len(lis)): \n",
    "    sum = sum + lis[ele]\n",
    "\n",
    "print(\"Sum of all elements in given list is: \", sum)"
   ]
  },
  {
   "cell_type": "code",
   "execution_count": 11,
   "metadata": {},
   "outputs": [
    {
     "name": "stdout",
     "output_type": "stream",
     "text": [
      "Largest element is: 50\n"
     ]
    }
   ],
   "source": [
    "list = [10,20,30,40,50] \n",
    "list.sort() \n",
    "   \n",
    "print(\"Largest element is:\", list[-1])"
   ]
  },
  {
   "cell_type": "code",
   "execution_count": 12,
   "metadata": {},
   "outputs": [
    {
     "name": "stdout",
     "output_type": "stream",
     "text": [
      "1\n",
      "1\n",
      "2\n",
      "3\n"
     ]
    }
   ],
   "source": [
    "a = [1, 1, 2, 3, 5, 8, 13, 21, 34, 55, 89]\n",
    "\n",
    "for i in a:\n",
    "\n",
    "    if i < 5:\n",
    "\n",
    "        print(i)"
   ]
  },
  {
   "cell_type": "code",
   "execution_count": 14,
   "metadata": {},
   "outputs": [
    {
     "name": "stdout",
     "output_type": "stream",
     "text": [
      "Select operation.\n",
      "1.Power\n",
      "2.Add\n",
      "3.Subtract\n",
      "4.Multiply\n",
      "5.Divide\n",
      "Enter choice(1/2/3/4/5): 1\n",
      "Enter first number: 3\n",
      "Enter second number: 2\n",
      "3.0 ^ 2.0 = 9.0\n"
     ]
    }
   ],
   "source": [
    "#Assignment 3\n",
    "def power(x, y):\n",
    "    return x**y\n",
    "\n",
    "def add(x, y):\n",
    "   return x + y\n",
    "\n",
    "\n",
    "def subtract(x, y):\n",
    "   return x - y\n",
    "\n",
    "\n",
    "def multiply(x, y):\n",
    "   return x * y\n",
    "\n",
    "\n",
    "def divide(x, y):\n",
    "   return x / y\n",
    "\n",
    "print(\"Select operation.\")\n",
    "print(\"1.Power\")\n",
    "print(\"2.Add\")\n",
    "print(\"3.Subtract\")\n",
    "print(\"4.Multiply\")\n",
    "print(\"5.Divide\")\n",
    " \n",
    "choice = input(\"Enter choice(1/2/3/4/5): \")\n",
    "\n",
    "num1 = float(input(\"Enter first number: \"))\n",
    "num2 = float(input(\"Enter second number: \"))\n",
    "\n",
    "if choice == '1':\n",
    "   print(num1,\"^\",num2,\"=\", power(num1,num2))\n",
    "\n",
    "elif choice == '2':\n",
    "    print(num1,\"+\",num2, \"=\", add(num1,num2))\n",
    "    \n",
    "elif choice == '3':\n",
    "   print(num1,\"-\",num2,\"=\", subtract(num1,num2))\n",
    "\n",
    "elif choice == '4':\n",
    "   print(num1,\"*\",num2,\"=\", multiply(num1,num2))\n",
    "\n",
    "elif choice == '5':\n",
    "   print(num1,\"/\",num2,\"=\", divide(num1,num2))\n",
    "else:\n",
    "   print(\"Invalid input\")"
   ]
  },
  {
   "cell_type": "code",
   "execution_count": 15,
   "metadata": {},
   "outputs": [
    {
     "name": "stdout",
     "output_type": "stream",
     "text": [
      "Yes it contain numeric values\n"
     ]
    }
   ],
   "source": [
    "values=[\"Muhammad Aqib Memon\",7,'a',\"Long\",4.0]\n",
    "count=0;\n",
    "for check in values:\n",
    "    if type(check) is int or type(check) is float :\n",
    "        count+=1\n",
    "if count>0:\n",
    "    print(\"Yes it contain numeric values\")"
   ]
  },
  {
   "cell_type": "code",
   "execution_count": 16,
   "metadata": {},
   "outputs": [
    {
     "name": "stdout",
     "output_type": "stream",
     "text": [
      "{'name': 'Muhammad', 'caste': 'Aqib'}\n",
      "{'name': 'Muhammad', 'caste': 'Aqib', 'address': 'Hyderabad'}\n"
     ]
    }
   ],
   "source": [
    "info={\n",
    "    \"name\" : \"Muhammad\",\n",
    "    \"caste\" : \"Aqib\"\n",
    "}\n",
    "\n",
    "print(info)\n",
    "\n",
    "info[\"address\"]=\"Hyderabad\"\n",
    "\n",
    "print(info)"
   ]
  },
  {
   "cell_type": "code",
   "execution_count": 18,
   "metadata": {},
   "outputs": [
    {
     "name": "stdout",
     "output_type": "stream",
     "text": [
      "the sum of the numeric values in dictionary is  31\n"
     ]
    }
   ],
   "source": [
    "values={1:\"Aqib\", \"a\" : 20,3 : 7}\n",
    "\n",
    "sum=0\n",
    "\n",
    "for key,value in values.items() :\n",
    "    if type(value) is int or type(value) is float :\n",
    "        sum+=value\n",
    "    if type(key) is int or type(key) is float :\n",
    "        sum+=key\n",
    "        \n",
    "\n",
    "print(\"the sum of the numeric values in dictionary is \",sum)"
   ]
  },
  {
   "cell_type": "code",
   "execution_count": 19,
   "metadata": {},
   "outputs": [
    {
     "name": "stdout",
     "output_type": "stream",
     "text": [
      "repeated values: Saqib "
     ]
    }
   ],
   "source": [
    "list1=[\"Same\",\"Saqib\",\"Soomro\",\"ALi\",\"Saqib\",\"Aqib\"]\n",
    "list2=[]\n",
    "print(\"repeated values:\" , end=\" \")\n",
    "for value in list1 :\n",
    "    if value in list2 :\n",
    "        print(value ,end=\" \" )\n",
    "    else :\n",
    "        list2.append(value)"
   ]
  },
  {
   "cell_type": "code",
   "execution_count": 21,
   "metadata": {},
   "outputs": [
    {
     "name": "stdout",
     "output_type": "stream",
     "text": [
      "Enter key 3\n",
      "Already exist \n"
     ]
    }
   ],
   "source": [
    "abc={\n",
    "    1 : \"A\",\n",
    "    2 : \"B\",\n",
    "    3 : \"C\",\n",
    "    4 : \"D\",\n",
    "    5 : \"E\",\n",
    "    6 : \"F\"\n",
    "}\n",
    "\n",
    "key=int(input(\"Enter key \"))\n",
    "\n",
    "if key in abc.keys() :\n",
    "    print(\"Already exist \")\n",
    "else:\n",
    "    print(\"do not exist\")"
   ]
  },
  {
   "cell_type": "code",
   "execution_count": 22,
   "metadata": {},
   "outputs": [
    {
     "name": "stdout",
     "output_type": "stream",
     "text": [
      "Friend's First Name: Muhammad\n",
      "Friend's Last Name: Aqib\n",
      "Friend's Age: 22\n",
      "Friend's City: Hyderabad\n",
      "\n",
      " {'First Name': 'Muhammad', 'Last Name': 'Aqib', 'Age': 22, 'City': 'Hyderabad'} \n",
      "\n",
      "{'First Name': 'Muhammad', 'Last Name': 'Aqib', 'Age': 22, 'City': 'Hyderabad', 'Qualification': 'Undergraduate'} \n",
      "\n",
      "{'First Name': 'Muhammad', 'Last Name': 'Aqib', 'Age': 22, 'City': 'Hyderabad', 'Qualification': 'Post Graduate'} \n",
      "\n",
      "{'First Name': 'Muhammad', 'Last Name': 'Aqib', 'Age': 22, 'City': 'Hyderabad'}\n"
     ]
    }
   ],
   "source": [
    "#Assignment 4\n",
    "person = {\n",
    "        \"First Name\" : \"Muhammad\",\n",
    "        \"Last Name\" : \"Aqib\",\n",
    "        \"Age\" : 22,\n",
    "        \"City\" : \"Hyderabad\"\n",
    "}\n",
    "for key, value in person.items():\n",
    "    print(\"Friend's \" + key + \": \" + str(value)) \n",
    "print(\"\\n\",person,\"\\n\")\n",
    "\n",
    "person[\"Qualification\"] = \"Undergraduate\"\n",
    "print(person,\"\\n\")\n",
    "\n",
    "\n",
    "person[\"Qualification\"] = \"Post Graduate\"\n",
    "print(person,\"\\n\")\n",
    "\n",
    "del person[\"Qualification\"]\n",
    "print(person)"
   ]
  },
  {
   "cell_type": "code",
   "execution_count": 23,
   "metadata": {},
   "outputs": [
    {
     "name": "stdout",
     "output_type": "stream",
     "text": [
      "City Name:  Karachi \n",
      "\n",
      "Country of Karachi: Pakistan\n",
      "Population of Karachi: 14.91 million\n",
      "Fact of Karachi: It isone of the most densely populated cities in the world with a diverse and multicultural population drawn to the opportunities for employment and business \n",
      "\n",
      "\n",
      "City Name:  Dhaka \n",
      "\n",
      "Country of Dhaka: Bangladesh\n",
      "Population of Dhaka: 8.906 million\n",
      "Fact of Dhaka: It is worst known for traffic. \n",
      "\n",
      "\n",
      "City Name:  Mumbai \n",
      "\n",
      "Country of Mumbai: India\n",
      "Population of Mumbai: 18.41 million\n",
      "Fact of Mumbai: Mumbai was the first one to start a bus service in India \n",
      "\n",
      "\n"
     ]
    }
   ],
   "source": [
    "cities = {\n",
    "    \"Karachi\" : {\n",
    "        \n",
    "        \"Country\" : \"Pakistan\",\n",
    "        \"Population\" : \"14.91 million\",\n",
    "        \"Fact\" : \"It isone of the most densely populated cities in the world with a diverse and multicultural population drawn to the opportunities for employment and business \"\n",
    "        \n",
    "        },\n",
    "    \"Dhaka\" : {\n",
    "            \n",
    "        \"Country\" : \"Bangladesh\",\n",
    "        \"Population\" : \"8.906 million\",\n",
    "        \"Fact\" : \"It is worst known for traffic. \"\n",
    "        \n",
    "        },\n",
    "    \"Mumbai\" : {\n",
    "            \n",
    "        \"Country\" : \"India\",\n",
    "        \"Population\" : \"18.41 million\",\n",
    "        \"Fact\" : \"Mumbai was the first one to start a bus service in India \"\n",
    "        \n",
    "        }\n",
    "}\n",
    "for key in cities.keys():\n",
    "    print(\"City Name: \",key,\"\\n\")\n",
    "    \n",
    "    for ekey,evalue in cities[key].items():\n",
    "        print(ekey+\" of \"+key+\": \"+evalue)\n",
    "    print(\"\\n\")"
   ]
  },
  {
   "cell_type": "code",
   "execution_count": 24,
   "metadata": {},
   "outputs": [
    {
     "name": "stdout",
     "output_type": "stream",
     "text": [
      "Enter Your Age 13\n",
      "Your ticket charges are $15.\n"
     ]
    }
   ],
   "source": [
    "age = 0,\n",
    "\n",
    "for a in age:\n",
    "    a = int(input(\"Enter Your Age \"))\n",
    "\n",
    "    if a <= 3 :\n",
    "        print(\"The ticket is free for you.\")\n",
    "\n",
    "    elif a > 3 and a <= 12 :\n",
    "        print(\"Your ticket charges are $10.\")\n",
    "\n",
    "    elif a >12 :\n",
    "        print(\"Your ticket charges are $15.\")\n",
    "        \n",
    "    else:\n",
    "        print (\"Sorry ,you are not allowed\")"
   ]
  },
  {
   "cell_type": "code",
   "execution_count": 25,
   "metadata": {},
   "outputs": [
    {
     "name": "stdout",
     "output_type": "stream",
     "text": [
      "One of my favorite books is A Smarter Way to Learn Python by Mark Myers.\n"
     ]
    }
   ],
   "source": [
    "def favorate_book(title):\n",
    "    title1 = \"One of my favorite books is \"\n",
    "    total = title1 + title\n",
    "    print(total)\n",
    "\n",
    "favorate_book(\"A Smarter Way to Learn Python by Mark Myers.\")"
   ]
  },
  {
   "cell_type": "code",
   "execution_count": 26,
   "metadata": {},
   "outputs": [
    {
     "name": "stdout",
     "output_type": "stream",
     "text": [
      "You have three chances to guess the number generated by computer between 1 to 30 \n",
      "\n",
      "Guess the Number 12\n",
      "\n",
      "Given number is greater than the hidden number.\n",
      "1st guess  is over\n",
      "\n",
      "Guess the Number 5\n",
      "\n",
      "Given number is less than the hidden number.\n",
      "2nd guess is over\n",
      "\n",
      "Guess the Number 8\n",
      "\n",
      "Given number is greater than the hidden number.\n",
      "3rd guess is over\n",
      "\n",
      "\n",
      "You Lost, no more chances left\n",
      "Hidden number is  7\n"
     ]
    }
   ],
   "source": [
    "import random\n",
    "num = random.randrange(1,30)\n",
    "chances = [\"1st guess \",\"2nd guess\",\"3rd guess\"]\n",
    "\n",
    "print(\"You have three chances to guess the number generated by computer between 1 to 30 \\n\")\n",
    "\n",
    "for a in chances:\n",
    "   \n",
    "    gnum = int(input(\"Guess the Number \"))\n",
    "    \n",
    "    if num != gnum:\n",
    "        if num > gnum:\n",
    "            print(\"\\nGiven number is less than the hidden number.\")\n",
    "            print(a, \"is over\\n\")\n",
    "        if num < gnum:\n",
    "            print(\"\\nGiven number is greater than the hidden number.\")\n",
    "            print(a, \"is over\\n\")\n",
    "if num == gnum:\n",
    "        print(\"\\nYou have done this it\",a)\n",
    "        print(\"Congratulations, Your guess is correct.\")\n",
    "        print(\"Yeah You Won \\n\")\n",
    "if num != gnum:      \n",
    "    print(\"\\nYou Lost, no more chances left\\nHidden number is \",num)"
   ]
  },
  {
   "cell_type": "code",
   "execution_count": 27,
   "metadata": {},
   "outputs": [
    {
     "name": "stdout",
     "output_type": "stream",
     "text": [
      "Factorial of inserted number is:  40320\n"
     ]
    }
   ],
   "source": [
    "#Assignment 5\n",
    "def factorial(a):\n",
    "    if a == 0:\n",
    "        return 1\n",
    "    else:\n",
    "        return a * factorial(a - 1)\n",
    "\n",
    "fact = factorial(8) \n",
    "print(\"Factorial of inserted number is: \", fact\n",
    "     )"
   ]
  },
  {
   "cell_type": "code",
   "execution_count": 28,
   "metadata": {},
   "outputs": [
    {
     "name": "stdout",
     "output_type": "stream",
     "text": [
      "Enter String to Check the  No. of upper and lower case letters: MUhammaD\n",
      "Original String :  MUhammaD\n",
      "No Up Case :  3\n",
      "No low Case :  5\n"
     ]
    }
   ],
   "source": [
    "def str_test(s):\n",
    "    d = {\"UP\" : 0, \"LOW\" : 0}\n",
    "    for b in s:\n",
    "        if b.isupper():\n",
    "            d[\"UP\"]+=1\n",
    "        elif b.islower():\n",
    "            d[\"LOW\"]+=1\n",
    "        else:\n",
    "            pass\n",
    "    print(\"Original String : \", s)\n",
    "    print(\"No Up Case : \", d[\"UP\"])\n",
    "    print(\"No low Case : \", d[\"LOW\"])\n",
    "Ostr = str(input(\"Enter String to Check the  No. of upper and lower case letters: \")) \n",
    "str_test(Ostr)"
   ]
  },
  {
   "cell_type": "code",
   "execution_count": 29,
   "metadata": {},
   "outputs": [
    {
     "name": "stdout",
     "output_type": "stream",
     "text": [
      "2\n",
      "4\n",
      "6\n",
      "8\n",
      "10\n",
      "12\n",
      "14\n",
      "16\n",
      "18\n",
      "20\n"
     ]
    }
   ],
   "source": [
    "nolist = [1,2,3,4,5,6,7,8,9,10,11,12,13,14,15,16,17,18,19,20]\n",
    "\n",
    "\n",
    "def enum(num):\n",
    "    for lst in num:\n",
    "        if lst%2 == 0:\n",
    "            print(lst)\n",
    "        else:\n",
    "            pass\n",
    "\n",
    "enum(nolist)"
   ]
  },
  {
   "cell_type": "code",
   "execution_count": 1,
   "metadata": {},
   "outputs": [
    {
     "name": "stdout",
     "output_type": "stream",
     "text": [
      "Write a word to Check whether the word is Palindrome or not: radar\n",
      "The word is a Palindrome.\n"
     ]
    }
   ],
   "source": [
    "def check_pal(word):\n",
    "    word = word.casefold()\n",
    "    rev_word = reversed(word)\n",
    "    \n",
    "    if list(word) == list(rev_word):\n",
    "        print(\"The word is a Palindrome.\")\n",
    "    else:\n",
    "        print(\"The word is not a Palindrome.\")\n",
    "\n",
    "gword = str(input(\"Write a word to Check whether the word is Palindrome or not: \"))\n",
    "check_pal(gword)"
   ]
  },
  {
   "cell_type": "code",
   "execution_count": 2,
   "metadata": {},
   "outputs": [
    {
     "name": "stdout",
     "output_type": "stream",
     "text": [
      "Enter a number to Check whether the number is prime or not: 43\n",
      "43  is a Prime Number\n"
     ]
    }
   ],
   "source": [
    "def check_prime(pnum):\n",
    "    if pnum > 1:\n",
    "        for p in range(2, pnum): \n",
    "            if pnum % p == 0:\n",
    "                print(pnum, \" is not a Prime Number\")\n",
    "                print(p,\"x\",pnum//p, \" = \",pnum)\n",
    "                break\n",
    "            else:\n",
    "                print(pnum, \" is a Prime Number\")\n",
    "                break\n",
    "                \n",
    "    else:\n",
    "        print(pnum, \" is not a Prime Number\")\n",
    "        \n",
    "chnum = int(input(\"Enter a number to Check whether the number is prime or not: \"))\n",
    "check_prime(chnum)"
   ]
  },
  {
   "cell_type": "code",
   "execution_count": 3,
   "metadata": {},
   "outputs": [
    {
     "name": "stdout",
     "output_type": "stream",
     "text": [
      "My Shoping Items are:\n",
      "Pant\n",
      "Shirt\n",
      "Tie\n",
      "Jeans\n",
      "Perfume\n"
     ]
    }
   ],
   "source": [
    "def shopmall(*shopitems):\n",
    "    print(\"My Shoping Items are:\")\n",
    "    \n",
    "    for shoping in shopitems:\n",
    "        print(shoping)\n",
    "        \n",
    "shopmall(\"Pant\", \"Shirt\", \"Tie\", \"Jeans\", \"Perfume\")"
   ]
  },
  {
   "cell_type": "markdown",
   "metadata": {},
   "source": [
    "Assignment 6\n",
    "\n",
    "Question 1: Define Object Oriented Programming Language?\n",
    "Answer : Object-oriented programming (OOP) is a programming language model in which programs are organized around data, or objects, rather than functions and logic. An object can be defined as a data field that has unique attributes and behavior.Examples of an object can range from physical entities, such as a human being that is described by properties like name and address\n",
    "\n",
    "Question 2: List down the Benefits of OOP?\n",
    "Answer:It provides a clear modular structure for programs which makes it good for defining abstract datatypes in which implementation details are hidden\n",
    "Objects can also be reused within an across applications. The reuse of software also lowers the cost of development. More effort is put into the object-oriented analysis and design, which lowers the overall cost of development.\n",
    "It makes software easier to maintain. Since the design is modular, part of the system can be updated in case of issues without a need to make large-scale changes\n",
    "Reuse also enables faster development. Object-oriented programming languages come with rich libraries of objects, and code developed during projects is also reusable in future projects.\n",
    "It provides a good framework for code libraries where the supplied software components can be easily adapted and modified by the programmer. This is particularly useful for developing graphical user interfaces.\n",
    "\n",
    "Question 3 Differentiate between function and method?\n",
    "Answer: A function is a piece of code that is called by name. It can be passed data to operate on (i.e. the parameters) and can optionally return data (the return value). All data that is passed to a function is explicitly passed.\n",
    "\n",
    "A method is a piece of code that is called by a name that is associated with an object. In most respects it is identical to a function except for two key differences:\n",
    "\t1-A method is implicitly passed the object on which it was called.\n",
    "\t2-A method is able to operate on data that is contained within the class (remembering that an object is an instance of a class - the class is the definition, the object is an instance of that data).\n",
    "    \n",
    "Question 4 Define the following terms:\n",
    "1.Class\n",
    "2.Object\n",
    "3.Attribute\n",
    "4.Behavior\n",
    "\n",
    "Class:a class describes the contents of the objects that belong to it: it describes an aggregate of data fields (called instance variables), and defines the operations (called methods).\n",
    "\n",
    "Object:an object is an element (or instance) of a class; objects have the behaviors of their class. The object is the actual component of programs, while the class specifies how instances are created and how they behave.:\n",
    "\n",
    "Attributes are the individual things that differentiate one object from another and determine the appearance, state, or other qualities of that object. Let's create a theoretical class called Motorcycle. A motorcycle class might include the following attributes and have these typical values:\n",
    "Color: red, green, silver, brown\n",
    "Style: cruiser, sport bike, standard\n",
    "Make: Honda, BMW, Bultaco\n",
    "\n",
    "Behavior:Behavior determines how an instance of that class operates; for example, how it will react if asked to do something by another class or object or if its internal state changes. Behavior is the only way objects can do anything to themselves or have anything done to them. For example, to go back to the theoretical Motorcycle class, here are some behaviors that the Motorcycle class might have:\n",
    "Start the engine\n",
    "Stop the engine\n",
    "Speed up\n",
    "\n"
   ]
  },
  {
   "cell_type": "code",
   "execution_count": 4,
   "metadata": {},
   "outputs": [
    {
     "name": "stdout",
     "output_type": "stream",
     "text": [
      "Vitz Honda 2019 Gray 4\n",
      "Mehran is stopped.\n",
      "Corolla is now being drived.\n"
     ]
    }
   ],
   "source": [
    "class Car:\n",
    "    def __init__(self, name, brand, model, color, doors):\n",
    "        self.name = name\n",
    "        self.brand = brand\n",
    "        self.model = model\n",
    "        self.color =  color\n",
    "        self.doors = doors\n",
    "    def printCar(self):\n",
    "        print(self.name,self.brand, self.model, self.color, self.doors)\n",
    "    def drive(self):\n",
    "        print(self.name, \"is now being drived.\")\n",
    "    def stop(self):\n",
    "        print(self.name, \"is stopped.\")\n",
    "car1 = Car(\"Mehran\", \"Suzuki\", \"2009\", \"White\", 4)\n",
    "car2 = Car(\"Lamborghini\", \"Lambo\", \"2010\", \"Blue\", 2)\n",
    "car3 = Car(\"Fe22\", \"Ferrari\", \"2011\", \"Green\", 4)\n",
    "car4 = Car(\"Corolla\", \"Toyota\", \"2012\", \"Red\", 2)\n",
    "car5 = Car(\"Vitz\", \"Honda\", \"2019\", \"Gray\", 4)\n",
    "car5.printCar()\n",
    "car1.stop()\n",
    "car4.drive()"
   ]
  },
  {
   "cell_type": "code",
   "execution_count": null,
   "metadata": {},
   "outputs": [],
   "source": []
  }
 ],
 "metadata": {
  "kernelspec": {
   "display_name": "Python 3",
   "language": "python",
   "name": "python3"
  },
  "language_info": {
   "codemirror_mode": {
    "name": "ipython",
    "version": 3
   },
   "file_extension": ".py",
   "mimetype": "text/x-python",
   "name": "python",
   "nbconvert_exporter": "python",
   "pygments_lexer": "ipython3",
   "version": "3.7.4"
  }
 },
 "nbformat": 4,
 "nbformat_minor": 2
}
